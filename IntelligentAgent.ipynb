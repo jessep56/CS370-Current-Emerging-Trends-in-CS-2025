{
 "cells": [
  {
   "cell_type": "markdown",
   "metadata": {},
   "source": [
    "# Treasure Hunt Game Notebook\n",
    "\n",
    "## Read and Review Your Starter Code\n",
    "The theme of this project is a popular treasure hunt game in which the player needs to find the treasure before the pirate does. While you will not be developing the entire game, you will write the part of the game that represents the intelligent agent, which is a pirate in this case. The pirate will try to find the optimal path to the treasure using deep Q-learning. \n",
    "\n",
    "You have been provided with two Python classes and this notebook to help you with this assignment. The first class, TreasureMaze.py, represents the environment, which includes a maze object defined as a matrix. The second class, GameExperience.py, stores the episodes – that is, all the states that come in between the initial state and the terminal state. This is later used by the agent for learning by experience, called \"exploration\". This notebook shows how to play a game. Your task is to complete the deep Q-learning implementation for which a skeleton implementation has been provided. The code blocks you will need to complete has #TODO as a header.\n",
    "\n",
    "First, read and review the next few code and instruction blocks to understand the code that you have been given."
   ]
  },
  {
   "cell_type": "code",
   "execution_count": 2,
   "metadata": {},
   "outputs": [
    {
     "name": "stderr",
     "output_type": "stream",
     "text": [
      "Using TensorFlow backend.\n"
     ]
    }
   ],
   "source": [
    "from __future__ import print_function\n",
    "import os, sys, time, datetime, json, random\n",
    "import numpy as np\n",
    "from keras.models import Sequential\n",
    "from keras.layers.core import Dense, Activation\n",
    "from keras.optimizers import SGD , Adam, RMSprop\n",
    "from keras.layers.advanced_activations import PReLU\n",
    "import matplotlib.pyplot as plt\n",
    "from TreasureMaze import TreasureMaze\n",
    "from GameExperience import GameExperience\n",
    "%matplotlib inline"
   ]
  },
  {
   "cell_type": "markdown",
   "metadata": {},
   "source": [
    "The following code block contains an 8x8 matrix that will be used as a maze object:"
   ]
  },
  {
   "cell_type": "code",
   "execution_count": 3,
   "metadata": {},
   "outputs": [],
   "source": [
    "maze = np.array([\n",
    "    [ 1.,  0.,  1.,  1.,  1.,  1.,  1.,  1.],\n",
    "    [ 1.,  0.,  1.,  1.,  1.,  0.,  1.,  1.],\n",
    "    [ 1.,  1.,  1.,  1.,  0.,  1.,  0.,  1.],\n",
    "    [ 1.,  1.,  1.,  0.,  1.,  1.,  1.,  1.],\n",
    "    [ 1.,  1.,  0.,  1.,  1.,  1.,  1.,  1.],\n",
    "    [ 1.,  1.,  1.,  0.,  1.,  0.,  0.,  0.],\n",
    "    [ 1.,  1.,  1.,  0.,  1.,  1.,  1.,  1.],\n",
    "    [ 1.,  1.,  1.,  1.,  0.,  1.,  1.,  1.]\n",
    "])"
   ]
  },
  {
   "cell_type": "markdown",
   "metadata": {},
   "source": [
    "This helper function allows a visual representation of the maze object:"
   ]
  },
  {
   "cell_type": "code",
   "execution_count": 4,
   "metadata": {},
   "outputs": [],
   "source": [
    "def show(qmaze):\n",
    "    plt.grid('on')\n",
    "    nrows, ncols = qmaze.maze.shape\n",
    "    ax = plt.gca()\n",
    "    ax.set_xticks(np.arange(0.5, nrows, 1))\n",
    "    ax.set_yticks(np.arange(0.5, ncols, 1))\n",
    "    ax.set_xticklabels([])\n",
    "    ax.set_yticklabels([])\n",
    "    canvas = np.copy(qmaze.maze)\n",
    "    for row,col in qmaze.visited:\n",
    "        canvas[row,col] = 0.6\n",
    "    pirate_row, pirate_col, _ = qmaze.state\n",
    "    canvas[pirate_row, pirate_col] = 0.3   # pirate cell\n",
    "    canvas[nrows-1, ncols-1] = 0.9 # treasure cell\n",
    "    img = plt.imshow(canvas, interpolation='none', cmap='gray')\n",
    "    return img"
   ]
  },
  {
   "cell_type": "markdown",
   "metadata": {},
   "source": [
    "The pirate agent can move in four directions: left, right, up, and down. \n",
    "\n",
    "While the agent primarily learns by experience through exploitation, often, the agent can choose to explore the environment to find previously undiscovered paths. This is called \"exploration\" and is defined by epsilon. This value is typically a lower value such as 0.1, which means for every ten attempts, the agent will attempt to learn by experience nine times and will randomly explore a new path one time. You are encouraged to try various values for the exploration factor and see how the algorithm performs."
   ]
  },
  {
   "cell_type": "code",
   "execution_count": 5,
   "metadata": {},
   "outputs": [],
   "source": [
    "LEFT = 0\n",
    "UP = 1\n",
    "RIGHT = 2\n",
    "DOWN = 3\n",
    "\n",
    "\n",
    "# Exploration factor\n",
    "epsilon = 0.1\n",
    "\n",
    "# Actions dictionary\n",
    "actions_dict = {\n",
    "    LEFT: 'left',\n",
    "    UP: 'up',\n",
    "    RIGHT: 'right',\n",
    "    DOWN: 'down',\n",
    "}\n",
    "\n",
    "num_actions = len(actions_dict)\n"
   ]
  },
  {
   "cell_type": "markdown",
   "metadata": {},
   "source": [
    "The sample code block and output below show creating a maze object and performing one action (DOWN), which returns the reward. The resulting updated environment is visualized."
   ]
  },
  {
   "cell_type": "code",
   "execution_count": 6,
   "metadata": {},
   "outputs": [
    {
     "name": "stdout",
     "output_type": "stream",
     "text": [
      "reward= -0.04\n"
     ]
    },
    {
     "data": {
      "text/plain": [
       "<matplotlib.image.AxesImage at 0x22670c15b48>"
      ]
     },
     "execution_count": 6,
     "metadata": {},
     "output_type": "execute_result"
    },
    {
     "data": {
      "image/png": "[encoded data removed]",
      "text/plain": [
       "<Figure size 432x288 with 1 Axes>"
      ]
     },
     "metadata": {
      "needs_background": "light"
     },
     "output_type": "display_data"
    }
   ],
   "source": [
    "qmaze = TreasureMaze(maze)\n",
    "canvas, reward, game_over = qmaze.act(DOWN)\n",
    "print(\"reward=\", reward)\n",
    "show(qmaze)"
   ]
  },
  {
   "cell_type": "markdown",
   "metadata": {},
   "source": [
    "This function simulates a full game based on the provided trained model. The other parameters include the TreasureMaze object and the starting position of the pirate."
   ]
  },
  {
   "cell_type": "code",
   "execution_count": 7,
   "metadata": {},
   "outputs": [],
   "source": [
    "def play_game(model, qmaze, pirate_cell):\n",
    "    qmaze.reset(pirate_cell)\n",
    "    envstate = qmaze.observe()\n",
    "    while True:\n",
    "        prev_envstate = envstate\n",
    "        # get next action\n",
    "        q = model.predict(prev_envstate)\n",
    "        action = np.argmax(q[0])\n",
    "\n",
    "        # apply action, get rewards and new state\n",
    "        envstate, reward, game_status = qmaze.act(action)\n",
    "        if game_status == 'win':\n",
    "            return True\n",
    "        elif game_status == 'lose':\n",
    "            return False"
   ]
  },
  {
   "cell_type": "markdown",
   "metadata": {},
   "source": [
    "This function helps you to determine whether the pirate can win any game at all. If your maze is not well designed, the pirate may not win any game at all. In this case, your training would not yield any result. The provided maze in this notebook ensures that there is a path to win and you can run this method to check."
   ]
  },
  {
   "cell_type": "code",
   "execution_count": 8,
   "metadata": {},
   "outputs": [],
   "source": [
    "def completion_check(model, qmaze):\n",
    "    for cell in qmaze.free_cells:\n",
    "        if not qmaze.valid_actions(cell):\n",
    "            return False\n",
    "        if not play_game(model, qmaze, cell):\n",
    "            return False\n",
    "    return True"
   ]
  },
  {
   "cell_type": "markdown",
   "metadata": {},
   "source": [
    "The code you have been given in this block will build the neural network model. Review the code and note the number of layers, as well as the activation, optimizer, and loss functions that are used to train the model."
   ]
  },
  {
   "cell_type": "code",
   "execution_count": 9,
   "metadata": {},
   "outputs": [],
   "source": [
    "def build_model(maze):\n",
    "    model = Sequential()\n",
    "    model.add(Dense(maze.size, input_shape=(maze.size,)))\n",
    "    model.add(PReLU())\n",
    "    model.add(Dense(maze.size))\n",
    "    model.add(PReLU())\n",
    "    model.add(Dense(num_actions))\n",
    "    model.compile(optimizer='adam', loss='mse')\n",
    "    return model"
   ]
  },
  {
   "cell_type": "markdown",
   "metadata": {},
   "source": [
    "# #TODO: Complete the Q-Training Algorithm Code Block\n",
    "\n",
    "This is your deep Q-learning implementation. The goal of your deep Q-learning implementation is to find the best possible navigation sequence that results in reaching the treasure cell while maximizing the reward. In your implementation, you need to determine the optimal number of epochs to achieve a 100% win rate.\n",
    "\n",
    "You will need to complete the section starting with #pseudocode. The pseudocode has been included for you."
   ]
  },
  {
   "cell_type": "code",
   "execution_count": 10,
   "metadata": {},
   "outputs": [],
   "source": [
    "def qtrain(model, maze, **opt):\n",
    "\n",
    "    # exploration factor\n",
    "    global epsilon \n",
    "\n",
    "    # number of epochs\n",
    "    n_epoch = opt.get('n_epoch', 15000)\n",
    "\n",
    "    # maximum memory to store episodes\n",
    "    max_memory = opt.get('max_memory', 1000)\n",
    "\n",
    "    # maximum data size for training\n",
    "    data_size = opt.get('data_size', 50)\n",
    "\n",
    "    # start time\n",
    "    start_time = datetime.datetime.now()\n",
    "\n",
    "    # Construct environment/game from numpy array: maze (see above)\n",
    "    qmaze = TreasureMaze(maze)\n",
    "\n",
    "    # Initialize experience replay object\n",
    "    experience = GameExperience(model, max_memory=max_memory)\n",
    "    \n",
    "    win_history = []   # history of win/lose game\n",
    "    hsize = qmaze.maze.size//2   # history window size\n",
    "    win_rate = 0.0\n",
    "    \n",
    "    # pseudocode:\n",
    "    # For each epoch:\n",
    "    #    Agent_cell = randomly select a free cell\n",
    "    #    Reset the maze with agent set to above position\n",
    "    #    Hint: Review the reset method in the TreasureMaze.py class.\n",
    "    #    envstate = Environment.current_state\n",
    "    #    Hint: Review the observe method in the TreasureMaze.py class.\n",
    "    #    While state is not game over:\n",
    "    #        previous_envstate = envstate\n",
    "    #        Action = randomly choose action (left, right, up, down) either by exploration or by exploitation\n",
    "    #        envstate, reward, game_status = qmaze.act(action)\n",
    "    #    Hint: Review the act method in the TreasureMaze.py class.\n",
    "    #        episode = [previous_envstate, action, reward, envstate, game_status]\n",
    "    #        Store episode in Experience replay object\n",
    "    #    Hint: Review the remember method in the GameExperience.py class.\n",
    "    #        Train neural network model and evaluate loss\n",
    "    #    Hint: Call GameExperience.get_data to retrieve training data (input and target) and pass to model.fit method \n",
    "    #          to train the model. You can call model.evaluate to determine loss.\n",
    "    #    If the win rate is above the threshold and your model passes the completion check, that would be your epoch.\n",
    "    \n",
    "    \n",
    "    for epoch in range(n_epoch):\n",
    "        # Agent starts at a random valid cell\n",
    "        agent_cell = random.choice(qmaze.free_cells)\n",
    "        qmaze.reset(agent_cell)\n",
    "        envstate = qmaze.observe()\n",
    "        loss = 0.0\n",
    "        n_episodes = 0\n",
    "\n",
    "        # Episode loop: run until game is over\n",
    "        while True:\n",
    "            prev_envstate = envstate\n",
    "            \n",
    "            # action selection (explore vs. exploit)\n",
    "            if np.random.rand() < epsilon:\n",
    "                action = random.choice(qmaze.valid_actions())\n",
    "            else:\n",
    "                q_values = experience.predict(prev_envstate)\n",
    "                action = np.argmax(q_values)\n",
    "\n",
    "            # Perform action and observe result\n",
    "            envstate, reward, game_status = qmaze.act(action)\n",
    "            \n",
    "            # Store episode in replay memory\n",
    "            episode = [prev_envstate, action, reward, envstate, game_status == 'win' or game_status == 'lose']\n",
    "            experience.remember(episode)\n",
    "            n_episodes += 1\n",
    "\n",
    "            # Train the model on a bunch of past experiences\n",
    "            inputs, targets = experience.get_data(data_size=data_size)\n",
    "            h = model.fit(inputs, targets, epochs=4, batch_size=32, verbose=0)\n",
    "            loss += h.history['loss'][0]\n",
    "\n",
    "            if game_status != 'not_over':\n",
    "                win_history.append(1 if game_status == 'win' else 0)\n",
    "                break\n",
    "\n",
    "        # Maintain a rolling win history window\n",
    "        if len(win_history) > hsize:\n",
    "            win_history = win_history[-hsize:]  # Keep history size manageable\n",
    "        win_rate = sum(win_history) / len(win_history)\n",
    "\n",
    "    \n",
    "\n",
    "    #Print the epoch, loss, episodes, win count, and win rate for each epoch\n",
    "        dt = datetime.datetime.now() - start_time\n",
    "        t = format_time(dt.total_seconds())\n",
    "        template = \"Epoch: {:03d}/{:d} | Loss: {:.4f} | Episodes: {:d} | Win count: {:d} | Win rate: {:.3f} | time: {}\"\n",
    "        print(template.format(epoch, n_epoch-1, loss, n_episodes, sum(win_history), win_rate, t))\n",
    "        # We simply check if training has exhausted all free cells and if in all\n",
    "        # cases the agent won.\n",
    "        if win_rate > 0.9 : epsilon = 0.05\n",
    "        if sum(win_history[-hsize:]) == hsize and completion_check(model, qmaze):\n",
    "            print(\"Reached 100%% win rate at epoch: %d\" % (epoch,))\n",
    "            break\n",
    "    \n",
    "    \n",
    "    # Determine the total time for training\n",
    "    dt = datetime.datetime.now() - start_time\n",
    "    seconds = dt.total_seconds()\n",
    "    t = format_time(seconds)\n",
    "\n",
    "    print(\"n_epoch: %d, max_mem: %d, data: %d, time: %s\" % (epoch, max_memory, data_size, t))\n",
    "    return seconds\n",
    "\n",
    "# This is a small utility for printing readable time strings:\n",
    "def format_time(seconds):\n",
    "    if seconds < 400:\n",
    "        s = float(seconds)\n",
    "        return \"%.1f seconds\" % (s,)\n",
    "    elif seconds < 4000:\n",
    "        m = seconds / 60.0\n",
    "        return \"%.2f minutes\" % (m,)\n",
    "    else:\n",
    "        h = seconds / 3600.0\n",
    "        return \"%.2f hours\" % (h,)"
   ]
  },
  {
   "cell_type": "markdown",
   "metadata": {},
   "source": [
    "## Test Your Model\n",
    "\n",
    "Now we will start testing the deep Q-learning implementation. To begin, select **Cell**, then **Run All** from the menu bar. This will run your notebook. As it runs, you should see output begin to appear beneath the next few cells. The code below creates an instance of TreasureMaze."
   ]
  },
  {
   "cell_type": "code",
   "execution_count": 11,
   "metadata": {},
   "outputs": [
    {
     "data": {
      "text/plain": [
       "<matplotlib.image.AxesImage at 0x2267229bf08>"
      ]
     },
     "execution_count": 11,
     "metadata": {},
     "output_type": "execute_result"
    },
    {
     "data": {
      "image/png": "[encoded data removed]",
      "text/plain": [
       "<Figure size 432x288 with 1 Axes>"
      ]
     },
     "metadata": {
      "needs_background": "light"
     },
     "output_type": "display_data"
    }
   ],
   "source": [
    "qmaze = TreasureMaze(maze)\n",
    "show(qmaze)"
   ]
  },
  {
   "cell_type": "markdown",
   "metadata": {},
   "source": [
    "In the next code block, you will build your model and train it using deep Q-learning. Note: This step takes several minutes to fully run."
   ]
  },
  {
   "cell_type": "code",
   "execution_count": 12,
   "metadata": {
    "scrolled": false
   },
   "outputs": [
    {
     "name": "stdout",
     "output_type": "stream",
     "text": [
      "Epoch: 000/14999 | Loss: 0.4738 | Episodes: 139 | Win count: 0 | Win rate: 0.000 | time: 17.6 seconds\n",
      "Epoch: 001/14999 | Loss: 1.1843 | Episodes: 142 | Win count: 0 | Win rate: 0.000 | time: 34.1 seconds\n",
      "Epoch: 002/14999 | Loss: 1.6367 | Episodes: 143 | Win count: 0 | Win rate: 0.000 | time: 50.7 seconds\n",
      "Epoch: 003/14999 | Loss: 1.8841 | Episodes: 133 | Win count: 0 | Win rate: 0.000 | time: 65.6 seconds\n",
      "Epoch: 004/14999 | Loss: 2.0841 | Episodes: 140 | Win count: 0 | Win rate: 0.000 | time: 82.0 seconds\n",
      "Epoch: 005/14999 | Loss: 3.1071 | Episodes: 140 | Win count: 0 | Win rate: 0.000 | time: 98.5 seconds\n",
      "Epoch: 006/14999 | Loss: 2.1503 | Episodes: 151 | Win count: 0 | Win rate: 0.000 | time: 115.5 seconds\n",
      "Epoch: 007/14999 | Loss: 2.0138 | Episodes: 137 | Win count: 0 | Win rate: 0.000 | time: 130.8 seconds\n",
      "Epoch: 008/14999 | Loss: 1.7033 | Episodes: 137 | Win count: 0 | Win rate: 0.000 | time: 146.7 seconds\n",
      "Epoch: 009/14999 | Loss: 1.5576 | Episodes: 136 | Win count: 0 | Win rate: 0.000 | time: 162.1 seconds\n",
      "Epoch: 010/14999 | Loss: 0.6161 | Episodes: 36 | Win count: 1 | Win rate: 0.091 | time: 166.3 seconds\n",
      "Epoch: 011/14999 | Loss: 3.0918 | Episodes: 139 | Win count: 1 | Win rate: 0.083 | time: 182.1 seconds\n",
      "Epoch: 012/14999 | Loss: 2.5698 | Episodes: 140 | Win count: 1 | Win rate: 0.077 | time: 198.3 seconds\n",
      "Epoch: 013/14999 | Loss: 2.4409 | Episodes: 144 | Win count: 1 | Win rate: 0.071 | time: 214.7 seconds\n",
      "Epoch: 014/14999 | Loss: 2.1025 | Episodes: 140 | Win count: 1 | Win rate: 0.067 | time: 231.1 seconds\n",
      "Epoch: 015/14999 | Loss: 2.0665 | Episodes: 133 | Win count: 1 | Win rate: 0.062 | time: 247.3 seconds\n",
      "Epoch: 016/14999 | Loss: 2.0336 | Episodes: 145 | Win count: 1 | Win rate: 0.059 | time: 264.2 seconds\n",
      "Epoch: 017/14999 | Loss: 1.5984 | Episodes: 137 | Win count: 1 | Win rate: 0.056 | time: 280.3 seconds\n",
      "Epoch: 018/14999 | Loss: 1.6705 | Episodes: 136 | Win count: 1 | Win rate: 0.053 | time: 296.6 seconds\n",
      "Epoch: 019/14999 | Loss: 1.4596 | Episodes: 144 | Win count: 1 | Win rate: 0.050 | time: 312.7 seconds\n",
      "Epoch: 020/14999 | Loss: 2.2807 | Episodes: 140 | Win count: 1 | Win rate: 0.048 | time: 329.4 seconds\n",
      "Epoch: 021/14999 | Loss: 1.5243 | Episodes: 137 | Win count: 1 | Win rate: 0.045 | time: 345.9 seconds\n",
      "Epoch: 022/14999 | Loss: 2.5533 | Episodes: 148 | Win count: 1 | Win rate: 0.043 | time: 363.0 seconds\n",
      "Epoch: 023/14999 | Loss: 0.6246 | Episodes: 49 | Win count: 2 | Win rate: 0.083 | time: 368.8 seconds\n",
      "Epoch: 024/14999 | Loss: 1.9455 | Episodes: 140 | Win count: 2 | Win rate: 0.080 | time: 385.2 seconds\n",
      "Epoch: 025/14999 | Loss: 1.9000 | Episodes: 144 | Win count: 2 | Win rate: 0.077 | time: 6.71 minutes\n",
      "Epoch: 026/14999 | Loss: 2.0012 | Episodes: 145 | Win count: 2 | Win rate: 0.074 | time: 6.98 minutes\n",
      "Epoch: 027/14999 | Loss: 1.7241 | Episodes: 139 | Win count: 2 | Win rate: 0.071 | time: 7.27 minutes\n",
      "Epoch: 028/14999 | Loss: 1.2457 | Episodes: 134 | Win count: 2 | Win rate: 0.069 | time: 7.55 minutes\n",
      "Epoch: 029/14999 | Loss: 0.0221 | Episodes: 2 | Win count: 3 | Win rate: 0.100 | time: 7.55 minutes\n",
      "Epoch: 030/14999 | Loss: 1.9529 | Episodes: 139 | Win count: 3 | Win rate: 0.097 | time: 7.82 minutes\n",
      "Epoch: 031/14999 | Loss: 0.0042 | Episodes: 2 | Win count: 4 | Win rate: 0.125 | time: 7.83 minutes\n",
      "Epoch: 032/14999 | Loss: 2.5359 | Episodes: 143 | Win count: 4 | Win rate: 0.125 | time: 8.10 minutes\n",
      "Epoch: 033/14999 | Loss: 2.0422 | Episodes: 144 | Win count: 4 | Win rate: 0.125 | time: 8.38 minutes\n",
      "Epoch: 034/14999 | Loss: 1.9089 | Episodes: 143 | Win count: 4 | Win rate: 0.125 | time: 8.67 minutes\n",
      "Epoch: 035/14999 | Loss: 0.6760 | Episodes: 43 | Win count: 5 | Win rate: 0.156 | time: 8.76 minutes\n",
      "Epoch: 036/14999 | Loss: 2.5305 | Episodes: 144 | Win count: 5 | Win rate: 0.156 | time: 9.03 minutes\n",
      "Epoch: 037/14999 | Loss: 2.3662 | Episodes: 138 | Win count: 5 | Win rate: 0.156 | time: 9.29 minutes\n",
      "Epoch: 038/14999 | Loss: 2.0082 | Episodes: 139 | Win count: 5 | Win rate: 0.156 | time: 9.54 minutes\n",
      "Epoch: 039/14999 | Loss: 0.5682 | Episodes: 43 | Win count: 6 | Win rate: 0.188 | time: 9.62 minutes\n",
      "Epoch: 040/14999 | Loss: 0.8907 | Episodes: 52 | Win count: 7 | Win rate: 0.219 | time: 9.71 minutes\n",
      "Epoch: 041/14999 | Loss: 0.0418 | Episodes: 4 | Win count: 8 | Win rate: 0.250 | time: 9.72 minutes\n",
      "Epoch: 042/14999 | Loss: 1.8664 | Episodes: 142 | Win count: 7 | Win rate: 0.219 | time: 9.98 minutes\n",
      "Epoch: 043/14999 | Loss: 0.0850 | Episodes: 6 | Win count: 8 | Win rate: 0.250 | time: 9.99 minutes\n",
      "Epoch: 044/14999 | Loss: 0.1129 | Episodes: 8 | Win count: 9 | Win rate: 0.281 | time: 10.01 minutes\n",
      "Epoch: 045/14999 | Loss: 1.4734 | Episodes: 135 | Win count: 9 | Win rate: 0.281 | time: 10.28 minutes\n",
      "Epoch: 046/14999 | Loss: 1.2094 | Episodes: 136 | Win count: 9 | Win rate: 0.281 | time: 10.54 minutes\n",
      "Epoch: 047/14999 | Loss: 1.1443 | Episodes: 139 | Win count: 9 | Win rate: 0.281 | time: 10.80 minutes\n",
      "Epoch: 048/14999 | Loss: 1.5466 | Episodes: 137 | Win count: 9 | Win rate: 0.281 | time: 11.06 minutes\n",
      "Epoch: 049/14999 | Loss: 1.8285 | Episodes: 133 | Win count: 9 | Win rate: 0.281 | time: 11.32 minutes\n",
      "Epoch: 050/14999 | Loss: 2.3312 | Episodes: 147 | Win count: 9 | Win rate: 0.281 | time: 11.60 minutes\n",
      "Epoch: 051/14999 | Loss: 0.0052 | Episodes: 1 | Win count: 10 | Win rate: 0.312 | time: 11.60 minutes\n",
      "Epoch: 052/14999 | Loss: 0.3516 | Episodes: 20 | Win count: 11 | Win rate: 0.344 | time: 11.64 minutes\n",
      "Epoch: 053/14999 | Loss: 2.0290 | Episodes: 142 | Win count: 11 | Win rate: 0.344 | time: 11.92 minutes\n",
      "Epoch: 054/14999 | Loss: 0.1920 | Episodes: 15 | Win count: 12 | Win rate: 0.375 | time: 11.95 minutes\n",
      "Epoch: 055/14999 | Loss: 1.5963 | Episodes: 148 | Win count: 11 | Win rate: 0.344 | time: 12.23 minutes\n",
      "Epoch: 056/14999 | Loss: 0.3537 | Episodes: 20 | Win count: 12 | Win rate: 0.375 | time: 12.27 minutes\n",
      "Epoch: 057/14999 | Loss: 1.8419 | Episodes: 141 | Win count: 12 | Win rate: 0.375 | time: 12.53 minutes\n",
      "Epoch: 058/14999 | Loss: 1.8643 | Episodes: 145 | Win count: 12 | Win rate: 0.375 | time: 12.79 minutes\n",
      "Epoch: 059/14999 | Loss: 0.0040 | Episodes: 1 | Win count: 13 | Win rate: 0.406 | time: 12.79 minutes\n",
      "Epoch: 060/14999 | Loss: 1.4783 | Episodes: 139 | Win count: 13 | Win rate: 0.406 | time: 13.06 minutes\n",
      "Epoch: 061/14999 | Loss: 1.4170 | Episodes: 139 | Win count: 12 | Win rate: 0.375 | time: 13.33 minutes\n",
      "Epoch: 062/14999 | Loss: 0.1221 | Episodes: 11 | Win count: 13 | Win rate: 0.406 | time: 13.35 minutes\n",
      "Epoch: 063/14999 | Loss: 0.0116 | Episodes: 3 | Win count: 13 | Win rate: 0.406 | time: 13.36 minutes\n",
      "Epoch: 064/14999 | Loss: 2.1353 | Episodes: 149 | Win count: 13 | Win rate: 0.406 | time: 13.64 minutes\n",
      "Epoch: 065/14999 | Loss: 1.3042 | Episodes: 139 | Win count: 13 | Win rate: 0.406 | time: 13.89 minutes\n",
      "Epoch: 066/14999 | Loss: 0.1351 | Episodes: 10 | Win count: 14 | Win rate: 0.438 | time: 13.91 minutes\n",
      "Epoch: 067/14999 | Loss: 1.5881 | Episodes: 142 | Win count: 13 | Win rate: 0.406 | time: 14.18 minutes\n",
      "Epoch: 068/14999 | Loss: 1.6719 | Episodes: 142 | Win count: 13 | Win rate: 0.406 | time: 14.48 minutes\n",
      "Epoch: 069/14999 | Loss: 0.2369 | Episodes: 29 | Win count: 14 | Win rate: 0.438 | time: 14.54 minutes\n",
      "Epoch: 070/14999 | Loss: 1.8497 | Episodes: 139 | Win count: 14 | Win rate: 0.438 | time: 14.80 minutes\n",
      "Epoch: 071/14999 | Loss: 1.9959 | Episodes: 149 | Win count: 14 | Win rate: 0.438 | time: 15.07 minutes\n",
      "Epoch: 072/14999 | Loss: 0.1570 | Episodes: 7 | Win count: 14 | Win rate: 0.438 | time: 15.09 minutes\n",
      "Epoch: 073/14999 | Loss: 0.3163 | Episodes: 11 | Win count: 14 | Win rate: 0.438 | time: 15.11 minutes\n",
      "Epoch: 074/14999 | Loss: 0.5697 | Episodes: 27 | Win count: 15 | Win rate: 0.469 | time: 15.16 minutes\n",
      "Epoch: 075/14999 | Loss: 0.5424 | Episodes: 26 | Win count: 15 | Win rate: 0.469 | time: 15.21 minutes\n",
      "Epoch: 076/14999 | Loss: 0.1146 | Episodes: 6 | Win count: 15 | Win rate: 0.469 | time: 15.22 minutes\n",
      "Epoch: 077/14999 | Loss: 0.3615 | Episodes: 19 | Win count: 16 | Win rate: 0.500 | time: 15.25 minutes\n",
      "Epoch: 078/14999 | Loss: 2.1154 | Episodes: 139 | Win count: 16 | Win rate: 0.500 | time: 15.52 minutes\n",
      "Epoch: 079/14999 | Loss: 0.0967 | Episodes: 13 | Win count: 17 | Win rate: 0.531 | time: 15.54 minutes\n",
      "Epoch: 080/14999 | Loss: 0.1274 | Episodes: 19 | Win count: 18 | Win rate: 0.562 | time: 15.58 minutes\n",
      "Epoch: 081/14999 | Loss: 0.0778 | Episodes: 7 | Win count: 19 | Win rate: 0.594 | time: 15.59 minutes\n",
      "Epoch: 082/14999 | Loss: 1.0820 | Episodes: 139 | Win count: 19 | Win rate: 0.594 | time: 15.85 minutes\n",
      "Epoch: 083/14999 | Loss: 1.2288 | Episodes: 144 | Win count: 18 | Win rate: 0.562 | time: 16.10 minutes\n",
      "Epoch: 084/14999 | Loss: 1.1022 | Episodes: 108 | Win count: 18 | Win rate: 0.562 | time: 16.31 minutes\n",
      "Epoch: 085/14999 | Loss: 0.2250 | Episodes: 11 | Win count: 19 | Win rate: 0.594 | time: 16.33 minutes\n",
      "Epoch: 086/14999 | Loss: 0.1900 | Episodes: 9 | Win count: 19 | Win rate: 0.594 | time: 16.34 minutes\n",
      "Epoch: 087/14999 | Loss: 1.0288 | Episodes: 86 | Win count: 20 | Win rate: 0.625 | time: 16.50 minutes\n",
      "Epoch: 088/14999 | Loss: 1.8097 | Episodes: 148 | Win count: 20 | Win rate: 0.625 | time: 16.80 minutes\n",
      "Epoch: 089/14999 | Loss: 1.1353 | Episodes: 146 | Win count: 20 | Win rate: 0.625 | time: 17.08 minutes\n",
      "Epoch: 090/14999 | Loss: 0.5110 | Episodes: 59 | Win count: 21 | Win rate: 0.656 | time: 17.20 minutes\n",
      "Epoch: 091/14999 | Loss: 0.0135 | Episodes: 2 | Win count: 21 | Win rate: 0.656 | time: 17.20 minutes\n",
      "Epoch: 092/14999 | Loss: 1.1303 | Episodes: 137 | Win count: 21 | Win rate: 0.656 | time: 17.49 minutes\n",
      "Epoch: 093/14999 | Loss: 0.1401 | Episodes: 19 | Win count: 22 | Win rate: 0.688 | time: 17.52 minutes\n",
      "Epoch: 094/14999 | Loss: 0.1960 | Episodes: 28 | Win count: 22 | Win rate: 0.688 | time: 17.57 minutes\n",
      "Epoch: 095/14999 | Loss: 0.3081 | Episodes: 40 | Win count: 22 | Win rate: 0.688 | time: 17.65 minutes\n",
      "Epoch: 096/14999 | Loss: 0.2648 | Episodes: 41 | Win count: 23 | Win rate: 0.719 | time: 17.73 minutes\n",
      "Epoch: 097/14999 | Loss: 0.3534 | Episodes: 20 | Win count: 24 | Win rate: 0.750 | time: 17.77 minutes\n",
      "Epoch: 098/14999 | Loss: 0.6212 | Episodes: 82 | Win count: 24 | Win rate: 0.750 | time: 17.92 minutes\n",
      "Epoch: 099/14999 | Loss: 0.3403 | Episodes: 34 | Win count: 25 | Win rate: 0.781 | time: 17.98 minutes\n",
      "Epoch: 100/14999 | Loss: 0.2245 | Episodes: 21 | Win count: 26 | Win rate: 0.812 | time: 18.02 minutes\n",
      "Epoch: 101/14999 | Loss: 0.2020 | Episodes: 23 | Win count: 26 | Win rate: 0.812 | time: 18.06 minutes\n",
      "Epoch: 102/14999 | Loss: 0.0257 | Episodes: 4 | Win count: 27 | Win rate: 0.844 | time: 18.07 minutes\n",
      "Epoch: 103/14999 | Loss: 0.0739 | Episodes: 12 | Win count: 27 | Win rate: 0.844 | time: 18.09 minutes\n",
      "Epoch: 104/14999 | Loss: 0.5214 | Episodes: 83 | Win count: 27 | Win rate: 0.844 | time: 18.25 minutes\n",
      "Epoch: 105/14999 | Loss: 0.1100 | Episodes: 22 | Win count: 27 | Win rate: 0.844 | time: 18.29 minutes\n",
      "Epoch: 106/14999 | Loss: 0.1769 | Episodes: 30 | Win count: 27 | Win rate: 0.844 | time: 18.35 minutes\n",
      "Epoch: 107/14999 | Loss: 0.1133 | Episodes: 19 | Win count: 27 | Win rate: 0.844 | time: 18.39 minutes\n",
      "Epoch: 108/14999 | Loss: 0.0789 | Episodes: 30 | Win count: 27 | Win rate: 0.844 | time: 18.45 minutes\n",
      "Epoch: 109/14999 | Loss: 0.0050 | Episodes: 2 | Win count: 27 | Win rate: 0.844 | time: 18.45 minutes\n",
      "Epoch: 110/14999 | Loss: 0.0028 | Episodes: 1 | Win count: 28 | Win rate: 0.875 | time: 18.46 minutes\n",
      "Epoch: 111/14999 | Loss: 0.0790 | Episodes: 31 | Win count: 28 | Win rate: 0.875 | time: 18.51 minutes\n",
      "Epoch: 112/14999 | Loss: 0.2170 | Episodes: 49 | Win count: 28 | Win rate: 0.875 | time: 18.61 minutes\n",
      "Epoch: 113/14999 | Loss: 0.0330 | Episodes: 6 | Win count: 28 | Win rate: 0.875 | time: 18.62 minutes\n",
      "Epoch: 114/14999 | Loss: 0.0303 | Episodes: 9 | Win count: 29 | Win rate: 0.906 | time: 18.64 minutes\n",
      "Epoch: 115/14999 | Loss: 0.0740 | Episodes: 26 | Win count: 30 | Win rate: 0.938 | time: 18.70 minutes\n",
      "Epoch: 116/14999 | Loss: 0.0576 | Episodes: 28 | Win count: 30 | Win rate: 0.938 | time: 18.75 minutes\n",
      "Epoch: 117/14999 | Loss: 0.0277 | Episodes: 15 | Win count: 30 | Win rate: 0.938 | time: 18.79 minutes\n",
      "Epoch: 118/14999 | Loss: 0.0224 | Episodes: 10 | Win count: 30 | Win rate: 0.938 | time: 18.81 minutes\n",
      "Epoch: 119/14999 | Loss: 0.0212 | Episodes: 11 | Win count: 30 | Win rate: 0.938 | time: 18.83 minutes\n",
      "Epoch: 120/14999 | Loss: 0.0235 | Episodes: 17 | Win count: 30 | Win rate: 0.938 | time: 18.87 minutes\n",
      "Epoch: 121/14999 | Loss: 0.0199 | Episodes: 17 | Win count: 31 | Win rate: 0.969 | time: 18.91 minutes\n",
      "Epoch: 122/14999 | Loss: 0.0282 | Episodes: 22 | Win count: 31 | Win rate: 0.969 | time: 18.95 minutes\n",
      "Epoch: 123/14999 | Loss: 0.0135 | Episodes: 14 | Win count: 31 | Win rate: 0.969 | time: 18.97 minutes\n",
      "Epoch: 124/14999 | Loss: 0.0174 | Episodes: 16 | Win count: 32 | Win rate: 1.000 | time: 19.01 minutes\n",
      "Reached 100% win rate at epoch: 124\n",
      "n_epoch: 124, max_mem: 512, data: 32, time: 19.02 minutes\n"
     ]
    },
    {
     "data": {
      "text/plain": [
       "1141.067105"
      ]
     },
     "execution_count": 12,
     "metadata": {},
     "output_type": "execute_result"
    }
   ],
   "source": [
    "model = build_model(maze)\n",
    "qtrain(model, maze, epochs=1000, max_memory=8*maze.size, data_size=32)"
   ]
  },
  {
   "cell_type": "markdown",
   "metadata": {},
   "source": [
    "This cell will check to see if the model passes the completion check. Note: This could take several minutes."
   ]
  },
  {
   "cell_type": "code",
   "execution_count": 13,
   "metadata": {},
   "outputs": [
    {
     "data": {
      "text/plain": [
       "<matplotlib.image.AxesImage at 0x22679b17588>"
      ]
     },
     "execution_count": 13,
     "metadata": {},
     "output_type": "execute_result"
    },
    {
     "data": {
      "image/png": "[encoded data removed]",
      "text/plain": [
       "<Figure size 432x288 with 1 Axes>"
      ]
     },
     "metadata": {
      "needs_background": "light"
     },
     "output_type": "display_data"
    }
   ],
   "source": [
    "completion_check(model, qmaze)\n",
    "show(qmaze)"
   ]
  },
  {
   "cell_type": "markdown",
   "metadata": {},
   "source": [
    "This cell will test your model for one game. It will start the pirate at the top-left corner and run play_game. The agent should find a path from the starting position to the target (treasure). The treasure is located in the bottom-right corner."
   ]
  },
  {
   "cell_type": "code",
   "execution_count": 14,
   "metadata": {},
   "outputs": [
    {
     "data": {
      "text/plain": [
       "<matplotlib.image.AxesImage at 0x2267ab66e08>"
      ]
     },
     "execution_count": 14,
     "metadata": {},
     "output_type": "execute_result"
    },
    {
     "data": {
      "image/png": "[encoded data removed]",
      "text/plain": [
       "<Figure size 432x288 with 1 Axes>"
      ]
     },
     "metadata": {
      "needs_background": "light"
     },
     "output_type": "display_data"
    }
   ],
   "source": [
    "pirate_start = (0, 0)\n",
    "play_game(model, qmaze, pirate_start)\n",
    "show(qmaze)"
   ]
  },
  {
   "cell_type": "markdown",
   "metadata": {},
   "source": [
    "## Save and Submit Your Work\n",
    "After you have finished creating the code for your notebook, save your work. Make sure that your notebook contains your name in the filename (e.g. Doe_Jane_ProjectTwo.ipynb). This will help your instructor access and grade your work easily. Download a copy of your IPYNB file and submit it to Brightspace. Refer to the Jupyter Notebook in Apporto Tutorial if you need help with these tasks."
   ]
  }
 ],
 "metadata": {
  "kernelspec": {
   "display_name": "Python 3",
   "language": "python",
   "name": "python3"
  },
  "language_info": {
   "codemirror_mode": {
    "name": "ipython",
    "version": 3
   },
   "file_extension": ".py",
   "mimetype": "text/x-python",
   "name": "python",
   "nbconvert_exporter": "python",
   "pygments_lexer": "ipython3",
   "version": "3.7.4"
  }
 },
 "nbformat": 4,
 "nbformat_minor": 2
}
